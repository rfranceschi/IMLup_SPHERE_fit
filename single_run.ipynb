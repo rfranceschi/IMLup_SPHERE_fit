{
 "cells": [
  {
   "cell_type": "code",
   "execution_count": 1,
   "metadata": {
    "pycharm": {
     "name": "#%%\n"
    },
    "tags": []
   },
   "outputs": [],
   "source": [
    "import pickle\n",
    "import shutil\n",
    "from pathlib import Path\n",
    "\n",
    "import disklab\n",
    "import matplotlib.pyplot as plt\n",
    "import numpy as np\n",
    "from IPython.display import Javascript\n",
    "from gofish import imagecube\n",
    "from matplotlib.colors import Normalize\n",
    "\n",
    "from helper_functions import make_disklab2d_model, read_opacs, write_radmc3d\n",
    "from log_prob import log_prob\n",
    "\n",
    "import astropy.constants as c\n",
    "from astropy.io import fits\n",
    "\n",
    "radmc3d_exec = Path('~/bin/radmc3d').expanduser()\n",
    "au = c.au.cgs.value"
   ]
  },
  {
   "cell_type": "code",
   "execution_count": 2,
   "metadata": {
    "collapsed": false,
    "jupyter": {
     "outputs_hidden": false
    },
    "pycharm": {
     "name": "#%%\n"
    }
   },
   "outputs": [],
   "source": [
    "fname = \"options.pickle\"\n",
    "with open(fname, \"rb\") as fb:\n",
    "    options = pickle.load(fb)\n",
    "\n",
    "ndim = 7\n",
    "\n",
    "# original\n",
    "p0 = [10.0, 0.73, 0.558, 0.017, 0.625, 0.01, 0.0]\n",
    "\n",
    "# error radmc continuum\n",
    "# path = Path(\"/Users/franceschi/mysims/IMLup/IMLup_SPHERE_fit/old_runs/run_error_radmc_continuum_854728122\")\n",
    "# error radmc scattering\n",
    "# path = Path(\"/Users/franceschi/mysims/IMLup/IMLup_SPHERE_fit/old_runs/run_error_radmc_scattering_982086481\")\n",
    "# error write radmc\n",
    "\n",
    "# p0 = [8.84825702,  1.95662302, -0.31526693,  2.10656677, 0.52873744, 0.02382286, -1.10552185]\n"
   ]
  },
  {
   "cell_type": "code",
   "execution_count": 3,
   "outputs": [
    {
     "data": {
      "text/plain": "(0.04, 0.04, 0.0)"
     },
     "execution_count": 3,
     "metadata": {},
     "output_type": "execute_result"
    }
   ],
   "source": [
    "options['beam_sca']"
   ],
   "metadata": {
    "collapsed": false,
    "pycharm": {
     "name": "#%%\n"
    }
   }
  },
  {
   "cell_type": "code",
   "execution_count": 4,
   "metadata": {
    "pycharm": {
     "name": "#%%\n"
    },
    "tags": []
   },
   "outputs": [
    {
     "ename": "TypeError",
     "evalue": "make_disklab2d_model() missing 1 required positional argument: 'opac_fname'",
     "output_type": "error",
     "traceback": [
      "\u001B[0;31m---------------------------------------------------------------------------\u001B[0m",
      "\u001B[0;31mTypeError\u001B[0m                                 Traceback (most recent call last)",
      "\u001B[0;32m<ipython-input-4-56bc96cd5c2d>\u001B[0m in \u001B[0;36m<module>\u001B[0;34m\u001B[0m\n\u001B[0;32m----> 1\u001B[0;31m \u001B[0mprob\u001B[0m\u001B[0;34m,\u001B[0m \u001B[0mblob\u001B[0m \u001B[0;34m=\u001B[0m \u001B[0mlog_prob\u001B[0m\u001B[0;34m(\u001B[0m\u001B[0mp0\u001B[0m\u001B[0;34m,\u001B[0m \u001B[0moptions\u001B[0m\u001B[0;34m,\u001B[0m \u001B[0mdebugging\u001B[0m\u001B[0;34m=\u001B[0m\u001B[0;32mTrue\u001B[0m\u001B[0;34m)\u001B[0m\u001B[0;34m\u001B[0m\u001B[0;34m\u001B[0m\u001B[0m\n\u001B[0m\u001B[1;32m      2\u001B[0m \u001B[0mprint\u001B[0m\u001B[0;34m(\u001B[0m\u001B[0mprob\u001B[0m\u001B[0;34m)\u001B[0m\u001B[0;34m\u001B[0m\u001B[0;34m\u001B[0m\u001B[0m\n\u001B[1;32m      3\u001B[0m \u001B[0mJavascript\u001B[0m\u001B[0;34m(\u001B[0m\u001B[0;34m\"new Notification('Cell Execution Has Finished')\"\u001B[0m\u001B[0;34m)\u001B[0m\u001B[0;34m\u001B[0m\u001B[0;34m\u001B[0m\u001B[0m\n",
      "\u001B[0;32m~/mysims/IMLup/IMLup_SPHERE_fit/log_prob.py\u001B[0m in \u001B[0;36mlog_prob\u001B[0;34m(parameters, options, debugging, run_id)\u001B[0m\n\u001B[1;32m    104\u001B[0m \u001B[0;34m\u001B[0m\u001B[0m\n\u001B[1;32m    105\u001B[0m         \u001B[0moptions\u001B[0m\u001B[0;34m[\u001B[0m\u001B[0;34m'fname_opac'\u001B[0m\u001B[0;34m]\u001B[0m\u001B[0;34m,\u001B[0m\u001B[0;34m\u001B[0m\u001B[0;34m\u001B[0m\u001B[0m\n\u001B[0;32m--> 106\u001B[0;31m         \u001B[0mshow_plots\u001B[0m\u001B[0;34m=\u001B[0m\u001B[0;32mFalse\u001B[0m\u001B[0;34m\u001B[0m\u001B[0;34m\u001B[0m\u001B[0m\n\u001B[0m\u001B[1;32m    107\u001B[0m     )\n\u001B[1;32m    108\u001B[0m \u001B[0;34m\u001B[0m\u001B[0m\n",
      "\u001B[0;31mTypeError\u001B[0m: make_disklab2d_model() missing 1 required positional argument: 'opac_fname'"
     ]
    }
   ],
   "source": [
    "prob, blob = log_prob(p0, options, debugging=True)\n",
    "print(prob)\n",
    "Javascript(\"new Notification('Cell Execution Has Finished')\")"
   ]
  },
  {
   "cell_type": "markdown",
   "metadata": {},
   "source": [
    "# Debugging"
   ]
  },
  {
   "cell_type": "code",
   "execution_count": null,
   "outputs": [],
   "source": [
    "# folder = Path('runs') / f'run_{blob}'\n",
    "folder  = Path('/Users/franceschi/mysims/IMLup/IMLup_SPHERE_fit/runs/run_p6_-1.11')\n",
    "\n",
    "with fits.open(folder / 'image_Q.fits') as hdul:\n",
    "    data_Q = hdul[0].data[0]\n",
    "with fits.open(folder / 'image_U.fits') as hdul:\n",
    "    data_U = hdul[0].data[0]\n",
    "\n",
    "\n",
    "f, ax = plt.subplots(1, 2, figsize=[12, 10])\n",
    "norm = Normalize(1e-11, 7e-7)\n",
    "ax[0].imshow(data_Q, norm=norm, origin='lower')\n",
    "ax[1].imshow(data_U, norm=norm, origin='lower')"
   ],
   "metadata": {
    "collapsed": false,
    "pycharm": {
     "name": "#%%\n"
    }
   }
  },
  {
   "cell_type": "code",
   "execution_count": null,
   "outputs": [],
   "source": [
    "from helper_functions import get_normalized_profiles\n",
    "\n",
    "fname_qphi_sim = folder / 'image_Qphi.fits'\n",
    "\n",
    "with open('options.pickle', 'rb') as fff:\n",
    "    options = pickle.load(fff)\n",
    "\n",
    "profiles_sca_sim = get_normalized_profiles(\n",
    "        str(fname_qphi_sim),\n",
    "        clip=options['clip'],\n",
    "        inc=options['inc'],\n",
    "        PA=options['PA'],\n",
    "        z0=options['z0'],\n",
    "        psi=options['psi'],\n",
    "        beam=options['beam_sca'])"
   ],
   "metadata": {
    "collapsed": false,
    "pycharm": {
     "name": "#%%\n"
    }
   }
  },
  {
   "cell_type": "code",
   "execution_count": null,
   "outputs": [],
   "source": [
    "profiles_sca_sim['B'].keys()"
   ],
   "metadata": {
    "collapsed": false,
    "pycharm": {
     "name": "#%%\n"
    }
   }
  },
  {
   "cell_type": "code",
   "execution_count": null,
   "outputs": [],
   "source": [
    "temp_path = Path(f'/Users/franceschi/mysims/IMLup/IMLup_SPHERE_fit/runs/run_p6_-1.11')\n",
    "\n",
    "radmc_call_mm = f\"image incl {options['inc']} posang {options['PA'] - 90} npix 500 lambda {options['lam_mm'] * 1e4} sizeau {2 * options['rout'] / au} secondorder  setthreads 1\"\n",
    "disklab.radmc3d.radmc3d(\n",
    "    radmc_call_mm,\n",
    "    path=temp_path,\n",
    "    executable=str(radmc3d_exec)\n",
    ")"
   ],
   "metadata": {
    "collapsed": false,
    "pycharm": {
     "name": "#%%\n"
    }
   }
  },
  {
   "cell_type": "code",
   "execution_count": null,
   "outputs": [],
   "source": [
    "temp_path = Path(f'/Users/franceschi/mysims/IMLup/IMLup_SPHERE_fit/runs/run_p6_-1.11')\n",
    "\n",
    "iq_sca_obs = imagecube(str(options['fname_sca_obs']), FOV=options['clip'])\n",
    "\n",
    "sizeau = np.diff(iq_sca_obs.xaxis[[-1, 0]])[0] * options['distance'] * iq_sca_obs.nxpix / (iq_sca_obs.nxpix - 1) * 1.0000000000000286\n",
    "radmc_call_sca = f\"image incl {options['inc']} posang {options['PA'] - 90} npix {iq_sca_obs.data.shape[0]} lambda {options['lam_sca'] * 1e4} sizeau {sizeau} setthreads 4\"\n",
    "disklab.radmc3d.radmc3d(\n",
    "    radmc_call_sca,\n",
    "    path=temp_path,\n",
    "    executable=str(radmc3d_exec))"
   ],
   "metadata": {
    "collapsed": false,
    "pycharm": {
     "name": "#%%\n"
    }
   }
  },
  {
   "cell_type": "code",
   "execution_count": null,
   "metadata": {},
   "outputs": [],
   "source": [
    "RMS_jyb = options['RMS_jyb']"
   ]
  },
  {
   "cell_type": "markdown",
   "metadata": {},
   "source": [
    "read the debugging dict"
   ]
  },
  {
   "cell_type": "code",
   "execution_count": null,
   "metadata": {},
   "outputs": [],
   "source": [
    "with open(temp_path.with_suffix('.pickle'), 'rb') as fh:\n",
    "    info = pickle.load(fh)\n",
    "\n",
    "info"
   ]
  },
  {
   "cell_type": "code",
   "execution_count": null,
   "outputs": [],
   "source": [
    "iq_mm_obs = info['iq_mm_obs']\n",
    "iq_sca_obs = info['iq_sca_obs']\n",
    "iq_mm_sim = info['iq_mm_sim']\n",
    "iq_sca_sim = info['iq_sca_sim']"
   ],
   "metadata": {
    "collapsed": false,
    "pycharm": {
     "name": "#%%\n"
    }
   }
  },
  {
   "cell_type": "code",
   "execution_count": null,
   "metadata": {},
   "outputs": [],
   "source": [
    "iq_mm_obs.data.shape"
   ]
  },
  {
   "cell_type": "code",
   "execution_count": null,
   "metadata": {},
   "outputs": [],
   "source": [
    "iq_mm_sim.data.shape"
   ]
  },
  {
   "cell_type": "markdown",
   "metadata": {},
   "source": [
    "**Plot mm - images**"
   ]
  },
  {
   "cell_type": "code",
   "execution_count": null,
   "metadata": {},
   "outputs": [],
   "source": [
    "im_cgs_sim = iq_mm_sim.data * iq_mm_sim.pix_per_beam / iq_mm_sim.beamarea_str * 1e-23\n",
    "im_cgs_obs = iq_mm_obs.data / iq_mm_sim.beamarea_str * 1e-23\n",
    "\n",
    "f, ax = plt.subplots(1, 2, figsize=(10, 5), sharex=True, sharey=True)\n",
    "vmin = RMS_jyb * 1e-23 / iq_mm_obs.beamarea_str # the RMS from dsharp (Jy/beam) to CGS conversion\n",
    "vmax = 20 * vmin\n",
    "ax[0].imshow(im_cgs_sim, extent=iq_mm_sim.extent, vmin=vmin, vmax=vmax, origin='lower')\n",
    "ax[1].imshow(im_cgs_obs, extent=iq_mm_obs.extent, vmin=vmin, vmax=vmax, origin='lower')\n",
    "ax[0].set_xlim([2, -2])\n",
    "ax[0].set_ylim([-2, 2]);\n",
    "\n",
    "ax[0].axis('off')\n",
    "ax[1].axis('off')\n",
    "f.subplots_adjust(wspace=0)\n",
    "# f.savefig('mm.pdf', transparent=True, bbox_inches='tight')"
   ]
  },
  {
   "cell_type": "markdown",
   "metadata": {},
   "source": [
    "**Plot IR - images**"
   ]
  },
  {
   "cell_type": "code",
   "execution_count": null,
   "metadata": {},
   "outputs": [],
   "source": [
    "f, ax = plt.subplots(1, 2, figsize=(10, 5), sharex=True, sharey=True)\n",
    "vmax = np.median(iq_sca_sim.data)*2e1\n",
    "ax[0].imshow(iq_sca_sim.data, extent=iq_sca_sim.extent, vmin=vmax/1e2, vmax=vmax, origin='lower')\n",
    "vmax = np.median(iq_sca_obs.data)*2e1\n",
    "ax[1].imshow(iq_sca_obs.data, extent=iq_sca_obs.extent, vmin=vmax/1e2, vmax=vmax, origin='lower')\n",
    "ax[0].set_xlim([2, -2])\n",
    "ax[0].set_ylim([-2, 2])\n",
    "\n",
    "ax[0].axis('off')\n",
    "ax[1].axis('off')\n",
    "f.subplots_adjust(wspace=0)\n",
    "# f.savefig('sca.pdf', transparent=True, bbox_inches='tight')"
   ]
  },
  {
   "cell_type": "markdown",
   "metadata": {},
   "source": [
    "**Plot the profiles**"
   ]
  },
  {
   "cell_type": "code",
   "execution_count": null,
   "metadata": {},
   "outputs": [],
   "source": [
    "x_mm_sim = info['x_mm_sim']\n",
    "y_mm_sim = info['y_mm_sim']\n",
    "dy_mm_sim = info['dy_mm_sim']\n",
    "\n",
    "profiles = info['profiles_sca_sim']\n",
    "profiles_obs = info['profiles_sca_obs']"
   ]
  },
  {
   "cell_type": "code",
   "execution_count": null,
   "metadata": {},
   "outputs": [],
   "source": [
    "disk_surface = dict(inc=options['inc'], PA=options['PA'], z0=options['z0'], psi=options['psi'])"
   ]
  },
  {
   "cell_type": "code",
   "execution_count": null,
   "metadata": {},
   "outputs": [],
   "source": [
    "norm = profiles['B']['norm']\n",
    "\n",
    "data = iq_sca_sim.data.copy()\n",
    "if iq_sca_sim.bunit.lower() == 'jy/beam':\n",
    "    data *= 1e-23 / iq_sca_sim.beamarea_str\n",
    "elif iq_sca_sim.bunit.lower() == 'jy/pixel':\n",
    "    data *= 1e-23 * iq_sca_sim.pix_per_beam / iq_sca_sim.beamarea_str\n",
    "\n",
    "f, ax = plt.subplots(1, 2, figsize=(10, 5), dpi=200)\n",
    "ax[0].imshow(data / norm, extent=iq_sca_sim.extent, vmin=0.1, vmax=5, origin='lower')\n",
    "\n",
    "# simulated (+masks)\n",
    "\n",
    "for i, key in enumerate(profiles.keys()):\n",
    "    profile = profiles[key]\n",
    "    x = profile['x']\n",
    "    y = profile['y']\n",
    "    dy = profile['dy']\n",
    "    mask = profile['mask']\n",
    "\n",
    "    iq_sca_sim.plot_mask(ax=ax[0], **disk_surface, **mask, mask_alpha=0, mask_color=f'C{i}')\n",
    "    \n",
    "    ax[1].semilogy(x, y, c=f'C{i}')\n",
    "    ax[1].fill_between(x, y - dy, y + dy, fc=f'C{i}', alpha=0.5)\n",
    "    \n",
    "# observed\n",
    "    \n",
    "norm = profiles_obs['B']['norm']\n",
    "for i, key in enumerate(profiles_obs.keys()):\n",
    "    profile = profiles_obs[key]\n",
    "    x = profile['x']\n",
    "    y = profile['y']\n",
    "    dy = profile['dy']\n",
    "    mask = profile['mask']\n",
    "\n",
    "    ax[1].semilogy(x, y, f'C{i}--')\n",
    "    ax[1].fill_between(x, y - dy, y + dy, fc=f'C{i}', alpha=0.5)\n",
    "    \n",
    "\n",
    "ax[0].set_xlim([2, -2])\n",
    "ax[0].set_ylim([-2, 2]);"
   ]
  },
  {
   "cell_type": "code",
   "execution_count": null,
   "outputs": [],
   "source": [
    "if not ((0 < info['params']['sigma_coeff'] < 1e4) and\n",
    "    (-5 < info['params']['sigma_exp'] < 5) and\n",
    "    (-5 < info['params']['size_exp'] < 5) and\n",
    "    (1e-4 < info['params']['amax_coeff'] < 100) and\n",
    "    (-5 < info['params']['amax_exp'] < 5) and\n",
    "    (1e-6 < info['params']['d2g_coeff'] < 1e2) and\n",
    "    (-5 < info['params']['d2g_exp'] < 5)):\n",
    "    print(\"Parameters out of prior\")\n",
    "\n",
    "\n",
    "disk2d = make_disklab2d_model(\n",
    "    p0,\n",
    "    options['mstar'],\n",
    "    options['lstar'],\n",
    "    options['tstar'],\n",
    "    options['nr'],\n",
    "    options['alpha'],\n",
    "    options['rin'],\n",
    "    options['rout'],\n",
    "    options['r_c'],\n",
    "    options['fname_opac'],\n",
    "    show_plots=False\n",
    ")\n",
    "\n",
    "opac_dict = read_opacs(options['fname_opac'])\n",
    "lam_opac = opac_dict['lam']\n",
    "n_a = len(opac_dict['a'])\n",
    "\n",
    "temp_path = Path('test/')\n",
    "if temp_path.is_dir():\n",
    "    shutil.rmtree(temp_path)\n",
    "temp_path.mkdir()\n",
    "\n",
    "write_radmc3d(disk2d, lam_opac, temp_path, show_plots=False)\n",
    "\n",
    "fname_mm_sim = temp_path / 'image_mm.fits'\n",
    "\n",
    "radmc_call_mm = f\"image incl {options['inc']} posang {options['PA'] - 90} npix 500 lambda {options['lam_mm'] * 1e4} sizeau {2 * options['rout'] / au} secondorder  setthreads 1\"\n",
    "disklab.radmc3d.radmc3d(\n",
    "    radmc_call_mm,\n",
    "    path=temp_path,\n",
    "    executable=str(radmc3d_exec)\n",
    ")"
   ],
   "metadata": {
    "collapsed": false,
    "pycharm": {
     "name": "#%%\n"
    }
   }
  }
 ],
 "metadata": {
  "kernelspec": {
   "display_name": "Python 3",
   "language": "python",
   "name": "python3"
  },
  "language_info": {
   "codemirror_mode": {
    "name": "ipython",
    "version": 3
   },
   "file_extension": ".py",
   "mimetype": "text/x-python",
   "name": "python",
   "nbconvert_exporter": "python",
   "pygments_lexer": "ipython3",
   "version": "3.8.5"
  }
 },
 "nbformat": 4,
 "nbformat_minor": 4
}