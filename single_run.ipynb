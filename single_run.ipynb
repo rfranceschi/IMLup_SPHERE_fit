{
 "cells": [
  {
   "cell_type": "code",
   "execution_count": 1,
   "metadata": {
    "pycharm": {
     "name": "#%%\n"
    },
    "tags": []
   },
   "outputs": [
    {
     "name": "stderr",
     "output_type": "stream",
     "text": [
      "/Users/franceschi/mysims/DISKLAB/disklab/diskradial.py:18: UserWarning: numba not available, opacity calculation will be very slow\n",
      "  warnings.warn('numba not available, opacity calculation will be very slow')\n"
     ]
    }
   ],
   "source": [
    "import pickle\n",
    "from pathlib import Path\n",
    "\n",
    "import numpy as np\n",
    "from IPython.display import Javascript\n",
    "import matplotlib.pyplot as plt\n",
    "\n",
    "from log_prob import log_prob"
   ]
  },
  {
   "cell_type": "code",
   "execution_count": 2,
   "metadata": {
    "collapsed": false,
    "jupyter": {
     "outputs_hidden": false
    },
    "pycharm": {
     "name": "#%%\n"
    }
   },
   "outputs": [
    {
     "data": {
      "text/plain": "[-1.09135616,\n 0.47570897,\n 1.05302132,\n 0.39014549,\n 0.20160774,\n 0.00975248,\n 0.17482565]"
     },
     "execution_count": 2,
     "metadata": {},
     "output_type": "execute_result"
    }
   ],
   "source": [
    "fname = \"options.pickle\"\n",
    "with open(fname, \"rb\") as fb:\n",
    "    options = pickle.load(fb)\n",
    "\n",
    "ndim = 7\n",
    "\n",
    "# param0 = 10 ** ((np.random.rand() - 0.5) * 4)\n",
    "# param1 = np.random.rand(ndim - 3, 1)\n",
    "# param2 = (np.random.rand() + 0.5) / 100\n",
    "# param3 = (np.random.rand() - 0.5)\n",
    "# p0 = np.vstack((param0, param1, param2, param3)).T[0]\n",
    "\n",
    "# original\n",
    "# p0 = [7.0, 0.730, 0.558, 0.017, 0.625, 0.008, 0.050]\n",
    "p0 = [-1.09135616,  0.47570897,  1.05302132,  0.39014549,  0.20160774,  0.00975248, 0.17482565]\n",
    "\n",
    "\n",
    "# issue: observed and simulated scattered radial profile grids are not equal\n",
    "#p0 = [2.926e+01, 8.972e-01, 2.726e-01, 1.425e-01, 4.986e-01, 7.306e-03, 3.156e-01]\n",
    "\n",
    "p0"
   ]
  },
  {
   "cell_type": "code",
   "execution_count": 3,
   "metadata": {
    "pycharm": {
     "name": "#%%\n"
    },
    "tags": []
   },
   "outputs": [
    {
     "name": "stdout",
     "output_type": "stream",
     "text": [
      "disk to star mass ratio = 6.3e-32\n",
      "[-1.09135616, 0.47570897, 1.05302132, 0.39014549, 0.20160774, 0.00975248, 0.17482565]\n",
      "-inf\n"
     ]
    },
    {
     "name": "stderr",
     "output_type": "stream",
     "text": [
      "/Users/franceschi/mysims/IMLup/IMLup_SPHERE_fit/log_prob.py:112: UserWarning: Index error in write_radmc3d\n",
      "  warnings.warn(\"Index error in write_radmc3d\")\n"
     ]
    },
    {
     "data": {
      "text/plain": "<IPython.core.display.Javascript object>",
      "application/javascript": "new Notification('Cell Execution Has Finished')"
     },
     "execution_count": 3,
     "metadata": {},
     "output_type": "execute_result"
    }
   ],
   "source": [
    "prob, blob = log_prob(p0, options, debugging=True)\n",
    "print(prob)\n",
    "Javascript(\"new Notification('Cell Execution Has Finished')\")"
   ]
  },
  {
   "cell_type": "markdown",
   "metadata": {},
   "source": [
    "# Debugging"
   ]
  },
  {
   "cell_type": "code",
   "execution_count": 4,
   "metadata": {},
   "outputs": [],
   "source": [
    "temp_path = Path(f'runs/run_{blob}')"
   ]
  },
  {
   "cell_type": "code",
   "execution_count": 5,
   "metadata": {},
   "outputs": [],
   "source": [
    "RMS_jyb = options['RMS_jyb']"
   ]
  },
  {
   "cell_type": "markdown",
   "metadata": {},
   "source": [
    "read the debugging dict"
   ]
  },
  {
   "cell_type": "code",
   "execution_count": 6,
   "metadata": {},
   "outputs": [
    {
     "ename": "FileNotFoundError",
     "evalue": "[Errno 2] No such file or directory: 'runs/run_Index error in write_radmc3d.pickle'",
     "output_type": "error",
     "traceback": [
      "\u001B[0;31m---------------------------------------------------------------------------\u001B[0m",
      "\u001B[0;31mFileNotFoundError\u001B[0m                         Traceback (most recent call last)",
      "\u001B[0;32m<ipython-input-6-3c8c1627b268>\u001B[0m in \u001B[0;36m<module>\u001B[0;34m\u001B[0m\n\u001B[0;32m----> 1\u001B[0;31m \u001B[0;32mwith\u001B[0m \u001B[0mopen\u001B[0m\u001B[0;34m(\u001B[0m\u001B[0mtemp_path\u001B[0m\u001B[0;34m.\u001B[0m\u001B[0mwith_suffix\u001B[0m\u001B[0;34m(\u001B[0m\u001B[0;34m'.pickle'\u001B[0m\u001B[0;34m)\u001B[0m\u001B[0;34m,\u001B[0m \u001B[0;34m'rb'\u001B[0m\u001B[0;34m)\u001B[0m \u001B[0;32mas\u001B[0m \u001B[0mfh\u001B[0m\u001B[0;34m:\u001B[0m\u001B[0;34m\u001B[0m\u001B[0;34m\u001B[0m\u001B[0m\n\u001B[0m\u001B[1;32m      2\u001B[0m     \u001B[0minfo\u001B[0m \u001B[0;34m=\u001B[0m \u001B[0mpickle\u001B[0m\u001B[0;34m.\u001B[0m\u001B[0mload\u001B[0m\u001B[0;34m(\u001B[0m\u001B[0mfh\u001B[0m\u001B[0;34m)\u001B[0m\u001B[0;34m\u001B[0m\u001B[0;34m\u001B[0m\u001B[0m\n\u001B[1;32m      3\u001B[0m \u001B[0;34m\u001B[0m\u001B[0m\n\u001B[1;32m      4\u001B[0m \u001B[0miq_mm_obs\u001B[0m \u001B[0;34m=\u001B[0m \u001B[0minfo\u001B[0m\u001B[0;34m[\u001B[0m\u001B[0;34m'iq_mm_obs'\u001B[0m\u001B[0;34m]\u001B[0m\u001B[0;34m\u001B[0m\u001B[0;34m\u001B[0m\u001B[0m\n\u001B[1;32m      5\u001B[0m \u001B[0miq_sca_obs\u001B[0m \u001B[0;34m=\u001B[0m \u001B[0minfo\u001B[0m\u001B[0;34m[\u001B[0m\u001B[0;34m'iq_sca_obs'\u001B[0m\u001B[0;34m]\u001B[0m\u001B[0;34m\u001B[0m\u001B[0;34m\u001B[0m\u001B[0m\n",
      "\u001B[0;31mFileNotFoundError\u001B[0m: [Errno 2] No such file or directory: 'runs/run_Index error in write_radmc3d.pickle'"
     ]
    }
   ],
   "source": [
    "with open(temp_path.with_suffix('.pickle'), 'rb') as fh:\n",
    "    info = pickle.load(fh)\n",
    "\n",
    "iq_mm_obs = info['iq_mm_obs']\n",
    "iq_sca_obs = info['iq_sca_obs']\n",
    "iq_mm_sim = info['iq_mm_sim']\n",
    "iq_sca_sim = info['iq_sca_sim']"
   ]
  },
  {
   "cell_type": "markdown",
   "metadata": {},
   "source": [
    "**Plot mm - images**"
   ]
  },
  {
   "cell_type": "code",
   "execution_count": null,
   "metadata": {},
   "outputs": [],
   "source": [
    "im_cgs_sim = iq_mm_sim.data * iq_mm_sim.pix_per_beam / iq_mm_sim.beamarea_str * 1e-23\n",
    "im_cgs_obs = iq_mm_obs.data / iq_mm_sim.beamarea_str * 1e-23\n",
    "\n",
    "f, ax = plt.subplots(1, 2, figsize=(10, 5), sharex=True, sharey=True)\n",
    "vmin = RMS_jyb * 1e-23 / iq_mm_obs.beamarea_str # the RMS from dsharp (Jy/beam) to CGS conversion\n",
    "vmax = 20 * vmin\n",
    "ax[0].imshow(im_cgs_sim, extent=iq_mm_sim.extent, vmin=vmin, vmax=vmax, origin='lower')\n",
    "ax[1].imshow(im_cgs_obs, extent=iq_mm_obs.extent, vmin=vmin, vmax=vmax, origin='lower')\n",
    "ax[0].set_xlim([2, -2])\n",
    "ax[0].set_ylim([-2, 2]);\n",
    "\n",
    "ax[0].axis('off')\n",
    "ax[1].axis('off')\n",
    "f.subplots_adjust(wspace=0)\n",
    "# f.savefig('mm.pdf', transparent=True, bbox_inches='tight')"
   ]
  },
  {
   "cell_type": "markdown",
   "metadata": {},
   "source": [
    "**Plot IR - images**"
   ]
  },
  {
   "cell_type": "code",
   "execution_count": null,
   "metadata": {},
   "outputs": [],
   "source": [
    "f, ax = plt.subplots(1, 2, figsize=(10, 5), sharex=True, sharey=True)\n",
    "vmax = np.median(iq_sca_sim.data)*2e1\n",
    "ax[0].imshow(iq_sca_sim.data, extent=iq_sca_sim.extent, vmin=vmax/1e2, vmax=vmax, origin='lower')\n",
    "vmax = np.median(iq_sca_obs.data)*2e1\n",
    "ax[1].imshow(iq_sca_obs.data, extent=iq_sca_obs.extent, vmin=vmax/1e2, vmax=vmax, origin='lower')\n",
    "ax[0].set_xlim([2, -2])\n",
    "ax[0].set_ylim([-2, 2])\n",
    "\n",
    "ax[0].axis('off')\n",
    "ax[1].axis('off')\n",
    "f.subplots_adjust(wspace=0)\n",
    "# f.savefig('sca.pdf', transparent=True, bbox_inches='tight')"
   ]
  },
  {
   "cell_type": "markdown",
   "metadata": {},
   "source": [
    "**Plot the profiles**"
   ]
  },
  {
   "cell_type": "code",
   "execution_count": null,
   "metadata": {},
   "outputs": [],
   "source": [
    "x_mm_sim = info['x_mm_sim']\n",
    "y_mm_sim = info['y_mm_sim']\n",
    "dy_mm_sim = info['dy_mm_sim']\n",
    "\n",
    "profiles = info['profiles_sca_sim']\n",
    "profiles_obs = info['profiles_sca_obs']"
   ]
  },
  {
   "cell_type": "code",
   "execution_count": null,
   "metadata": {},
   "outputs": [],
   "source": [
    "disk_surface = dict(inc=options['inc'], PA=options['PA'], z0=options['z0'], psi=options['psi'])"
   ]
  },
  {
   "cell_type": "code",
   "execution_count": null,
   "metadata": {},
   "outputs": [],
   "source": [
    "norm = profiles['B']['norm']\n",
    "\n",
    "data = iq_sca_sim.data.copy()\n",
    "if iq_sca_sim.bunit.lower() == 'jy/beam':\n",
    "    data *= 1e-23 / iq_sca_sim.beamarea_str\n",
    "elif iq_sca_sim.bunit.lower() == 'jy/pixel':\n",
    "    data *= 1e-23 * iq_sca_sim.pix_per_beam / iq_sca_sim.beamarea_str\n",
    "\n",
    "f, ax = plt.subplots(1, 2, figsize=(10, 5), dpi=200)\n",
    "ax[0].imshow(data / norm, extent=iq_sca_sim.extent, vmin=0.1, vmax=5, origin='lower')\n",
    "\n",
    "# simulated (+masks)\n",
    "\n",
    "for i, key in enumerate(profiles.keys()):\n",
    "    profile = profiles[key]\n",
    "    x = profile['x']\n",
    "    y = profile['y']\n",
    "    dy = profile['dy']\n",
    "    mask = profile['mask']\n",
    "\n",
    "    iq_sca_sim.plot_mask(ax=ax[0], **disk_surface, **mask, mask_alpha=0, mask_color=f'C{i}')\n",
    "    \n",
    "    ax[1].semilogy(x, y, c=f'C{i}')\n",
    "    ax[1].fill_between(x, y - dy, y + dy, fc=f'C{i}', alpha=0.5)\n",
    "    \n",
    "# observed\n",
    "    \n",
    "norm = profiles_obs['B']['norm']\n",
    "for i, key in enumerate(profiles_obs.keys()):\n",
    "    profile = profiles_obs[key]\n",
    "    x = profile['x']\n",
    "    y = profile['y']\n",
    "    dy = profile['dy']\n",
    "    mask = profile['mask']\n",
    "\n",
    "    ax[1].semilogy(x, y, f'C{i}--')\n",
    "    ax[1].fill_between(x, y - dy, y + dy, fc=f'C{i}', alpha=0.5)\n",
    "    \n",
    "\n",
    "ax[0].set_xlim([2, -2])\n",
    "ax[0].set_ylim([-2, 2]);"
   ]
  }
 ],
 "metadata": {
  "kernelspec": {
   "display_name": "Python 3",
   "language": "python",
   "name": "python3"
  },
  "language_info": {
   "codemirror_mode": {
    "name": "ipython",
    "version": 3
   },
   "file_extension": ".py",
   "mimetype": "text/x-python",
   "name": "python",
   "nbconvert_exporter": "python",
   "pygments_lexer": "ipython3",
   "version": "3.8.5"
  }
 },
 "nbformat": 4,
 "nbformat_minor": 4
}